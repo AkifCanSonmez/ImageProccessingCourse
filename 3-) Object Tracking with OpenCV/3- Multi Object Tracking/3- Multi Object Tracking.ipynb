{
 "cells": [
  {
   "cell_type": "markdown",
   "id": "2afdedd2",
   "metadata": {},
   "source": [
    "#### https://dosya.co/g5o2suzyzf3q/MOT17-04-DPM.mp4.html\n",
    "#### Link for video that I used in this notebook"
   ]
  },
  {
   "cell_type": "code",
   "execution_count": 3,
   "id": "db82cefe",
   "metadata": {},
   "outputs": [],
   "source": [
    "import cv2"
   ]
  },
  {
   "cell_type": "code",
   "execution_count": 4,
   "id": "69461814",
   "metadata": {},
   "outputs": [],
   "source": [
    "OPENCV_OBJECT_TRACKERS = {\"csrt\"           : cv2.legacy.TrackerCSRT_create,\n",
    "                          \"kcf\"            : cv2.legacy.TrackerKCF_create,\n",
    "                          \"mil\"            : cv2.legacy.TrackerMIL_create}\n",
    "                          \n",
    "    \n",
    "tracker_name = \"csrt\"\n",
    "\n",
    "trackers = cv2.legacy.MultiTracker_create()\n",
    "\n",
    "video_path = \"MOT17-04-DPM.mp4\"\n",
    "cap = cv2.VideoCapture(video_path)\n",
    "\n",
    "fps = 30\n",
    "f = 0\n",
    "\n"
   ]
  },
  {
   "cell_type": "code",
   "execution_count": 5,
   "id": "9945d4d6",
   "metadata": {},
   "outputs": [],
   "source": [
    "while True:\n",
    "    ret , frame = cap.read()\n",
    "    (H,W) = frame.shape[:2]\n",
    "    frame = cv2.resize(frame, dsize = (960,540))\n",
    "    \n",
    "    (success, boxes) = trackers.update(frame)\n",
    "    \n",
    "    info = [(\"Tracker\",tracker_name),\n",
    "           (\"Success\", \"Yes\" if success else \"No\")]\n",
    "    \n",
    "    string_text = \"\"\n",
    "    \n",
    "    for (i, (k,v)) in enumerate(info):\n",
    "        text = f'{k}: {v}'\n",
    "        string_text = string_text + text + \" \"\n",
    "        \n",
    "    cv2.putText(frame, string_text, (10,20), cv2.FONT_HERSHEY_SIMPLEX, 0.6, (0,0,255), 2)\n",
    "    \n",
    "    for box in boxes:\n",
    "        (x,y,w,h) = [int(v) for v in box]\n",
    "        cv2.rectangle(frame, (x,y), (x+w, y+h), (0,255,0),2)\n",
    "        \n",
    "    cv2.imshow(\"Frame\",frame)\n",
    "    key = cv2.waitKey(1) & 0xFF\n",
    "    \n",
    "    if key == ord(\"t\"):\n",
    "        \n",
    "        box = cv2.selectROI(\"Frame\",frame,fromCenter = False)\n",
    "        \n",
    "        tracker = OPENCV_OBJECT_TRACKERS[tracker_name]()\n",
    "        trackers.add(tracker,frame,box)\n",
    "        \n",
    "    elif key == ord(\"q\"):\n",
    "        break\n",
    "        \n",
    "    f += 1\n",
    "    \n",
    "cap.release()\n",
    "cv2.destroyAllWindows()\n",
    "    \n",
    "        \n",
    "        "
   ]
  }
 ],
 "metadata": {
  "kernelspec": {
   "display_name": "Python 3",
   "language": "python",
   "name": "python3"
  },
  "language_info": {
   "codemirror_mode": {
    "name": "ipython",
    "version": 3
   },
   "file_extension": ".py",
   "mimetype": "text/x-python",
   "name": "python",
   "nbconvert_exporter": "python",
   "pygments_lexer": "ipython3",
   "version": "3.8.8"
  }
 },
 "nbformat": 4,
 "nbformat_minor": 5
}
