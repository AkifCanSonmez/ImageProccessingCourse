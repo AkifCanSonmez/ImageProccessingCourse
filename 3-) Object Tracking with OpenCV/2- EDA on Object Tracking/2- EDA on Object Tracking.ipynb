{
 "cells": [
  {
   "cell_type": "code",
   "execution_count": 43,
   "id": "a80d8efc",
   "metadata": {},
   "outputs": [],
   "source": [
    "import cv2\n",
    "import numpy as np\n",
    "import matplotlib.pyplot as plt\n",
    "import time\n",
    "import pandas as pd"
   ]
  },
  {
   "cell_type": "code",
   "execution_count": 44,
   "id": "c17dfba1",
   "metadata": {},
   "outputs": [
    {
     "name": "stdout",
     "output_type": "stream",
     "text": [
      "Tracker: csrt\n"
     ]
    }
   ],
   "source": [
    "OPENCV_OBJECT_TRACKERS = {\"csrt\"           : cv2.TrackerCSRT_create,\n",
    "                          \"kcf\"            : cv2.TrackerKCF_create,\n",
    "                          \"mil\"            : cv2.TrackerMIL_create}\n",
    "                          \n",
    "    \n",
    "tracker_name = \"csrt\"\n",
    "tracker = OPENCV_OBJECT_TRACKERS[tracker_name]()\n",
    "print(\"Tracker:\", tracker_name)\n",
    "\n",
    "gt = pd.read_csv(\"gt_new.txt\")\n",
    "\n",
    "video_path = \"MOT17-13-SDP.mp4\"\n",
    "cap = cv2.VideoCapture(video_path)\n",
    "    "
   ]
  },
  {
   "cell_type": "code",
   "execution_count": 45,
   "id": "429d970d",
   "metadata": {},
   "outputs": [],
   "source": [
    "#Genel Parametreler\n",
    "\n",
    "initBB = None\n",
    "fps = 25\n",
    "frame_number = []\n",
    "f = 0\n",
    "success_track_frame_success = 0\n",
    "track_list = []\n",
    "start_time = time.time()\n"
   ]
  },
  {
   "cell_type": "code",
   "execution_count": 46,
   "id": "21c3496d",
   "metadata": {},
   "outputs": [],
   "source": [
    "start_time = time.time()\n",
    "while True:\n",
    "    ret , frame = cap.read()\n",
    "    \n",
    "    if ret:\n",
    "        \n",
    "        frame = cv2.resize(frame, dsize = (960,540))\n",
    "        (H, W) = frame.shape[:2]\n",
    "        \n",
    "        #gt \n",
    "        car_gt = gt[gt.frame_no == f]\n",
    "        if len(car_gt) != 0:\n",
    "            x = car_gt.x.values[0]\n",
    "            y = car_gt.y.values[0]\n",
    "            w = car_gt.w.values[0]\n",
    "            h = car_gt.h.values[0]\n",
    "            \n",
    "            center_x = car_gt.center_x.values[0]\n",
    "            center_y = car_gt.center_y.values[0]\n",
    "            \n",
    "            cv2.rectangle(frame, (x,y), (x+w , y+h), (0,255,0),2)\n",
    "            cv2.circle(frame, (center_x,center_y),2,(0,0,255),-1)\n",
    "        \n",
    "        #\n",
    "        \n",
    "        if initBB is not None:\n",
    "            \n",
    "            (success,box) = tracker.update(frame)\n",
    "            \n",
    "            if f <= np.max(gt.frame_no):\n",
    "            \n",
    "                (x,y,w,h) = [int(i) for i in box]\n",
    "\n",
    "                cv2.rectangle(frame, (x,y), (x+w,y+h), (0,0,255),2)\n",
    "                success_track_frame_success = success_track_frame_success+1\n",
    "                track_center_x = int(x+w/2)\n",
    "                track_center_y = int(y+h/2)\n",
    "                track_list.append([f,track_center_x,track_center_y,])\n",
    "\n",
    "            info = [(\"Tracker\",tracker_name),\n",
    "                   (\"Success\",\"Yes\" if success else \"No\")]\n",
    "            \n",
    "            for (i,(o,p)) in enumerate(info):\n",
    "                text = f'{o}: {p}'\n",
    "                cv2.putText(frame,text,(10,H-(i*20)-10), cv2.FONT_HERSHEY_SIMPLEX,0.6,(0,0,255),2)\n",
    "                 \n",
    "        cv2.putText(frame, \"Frame Num:\" + str(f), (10,30),cv2.FONT_HERSHEY_SIMPLEX,0.6,(0,0,255),2)     \n",
    "        cv2.imshow(\"frame\",frame)\n",
    "        # key\n",
    "        key = cv2.waitKey(1) & 0xFF\n",
    "        \n",
    "        if key == ord(\"t\"):\n",
    "            initBB = cv2.selectROI(\"Frame\",frame,fromCenter=False)\n",
    "            \n",
    "            tracker.init(frame, initBB)\n",
    "            \n",
    "        elif key == ord(\"q\"):\n",
    "            break\n",
    "        \n",
    "        #frame\n",
    "        frame_number.append(f)\n",
    "        f += 1\n",
    "        \n",
    "    else:\n",
    "        break\n",
    "\n",
    "cap.release()\n",
    "cv2.destroyAllWindows() \n",
    "\n",
    "stop_time = time.time()\n",
    "time_diff = stop_time - start_time\n",
    "        \n",
    "        "
   ]
  },
  {
   "cell_type": "markdown",
   "id": "08fc644d",
   "metadata": {},
   "source": [
    "#### Değerlendirme"
   ]
  },
  {
   "cell_type": "code",
   "execution_count": 38,
   "id": "daad068f",
   "metadata": {},
   "outputs": [
    {
     "name": "stdout",
     "output_type": "stream",
     "text": [
      "Tracking Method:  <TrackerCSRT 000002758D57D050>\n",
      "Time:  29.79706120491028\n",
      "Number of frame to track (gt):  451\n",
      "Number of frame to track (track success):  392\n",
      "Toplam Hata:  15090.21286852259\n"
     ]
    },
    {
     "data": {
      "image/png": "[encoded data removed]",
      "text/plain": [
       "<Figure size 432x288 with 1 Axes>"
      ]
     },
     "metadata": {
      "needs_background": "light"
     },
     "output_type": "display_data"
    }
   ],
   "source": [
    "track_df = pd.DataFrame(track_list, columns = [\"frame_no\",\"center_x\",\"center_y\"])\n",
    "\n",
    "if len(track_df) != 0:\n",
    "    print(\"Tracking Method: \",tracker)\n",
    "    print(\"Time: \",time_diff)\n",
    "    print(\"Number of frame to track (gt): \", len(gt))\n",
    "    print(\"Number of frame to track (track success): \",success_track_frame_success)\n",
    "    \n",
    "    track_df_frame = track_df.frame_no\n",
    "    \n",
    "    gt_center_x  = gt.center_x[track_df_frame].values\n",
    "    gt_center_y = gt.center_y[track_df_frame].values\n",
    "    \n",
    "    track_df_center_x = track_df.center_x.values\n",
    "    track_df_center_y = track_df.center_y.values\n",
    "    \n",
    "    plt.plot(np.sqrt((gt_center_x - track_df_center_x)**2 + (gt_center_y - track_df_center_y)**2 ))\n",
    "    plt.xlabel(\"Frame\")\n",
    "    plt.ylabel(\"Euclidean Distance btw gt and track\")\n",
    "    error = np.sum(np.sqrt((gt_center_x - track_df_center_x)**2 + (gt_center_y - track_center_y)**2))\n",
    "    print(\"Toplam Hata: \",error)\n",
    "    "
   ]
  }
 ],
 "metadata": {
  "kernelspec": {
   "display_name": "Python 3",
   "language": "python",
   "name": "python3"
  },
  "language_info": {
   "codemirror_mode": {
    "name": "ipython",
    "version": 3
   },
   "file_extension": ".py",
   "mimetype": "text/x-python",
   "name": "python",
   "nbconvert_exporter": "python",
   "pygments_lexer": "ipython3",
   "version": "3.8.8"
  }
 },
 "nbformat": 4,
 "nbformat_minor": 5
}
