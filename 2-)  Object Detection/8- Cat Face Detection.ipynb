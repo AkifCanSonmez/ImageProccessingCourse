{
 "cells": [
  {
   "cell_type": "code",
   "execution_count": 1,
   "id": "305d7be2",
   "metadata": {},
   "outputs": [],
   "source": [
    "import cv2\n",
    "import os"
   ]
  },
  {
   "cell_type": "code",
   "execution_count": 16,
   "id": "11e6d1da",
   "metadata": {
    "scrolled": true
   },
   "outputs": [
    {
     "name": "stdout",
     "output_type": "stream",
     "text": [
      "['1kedi.jfif', '2kedi.jfif', '3kedi.jpg', '4kedi.jfif', 'kedi.jpg']\n"
     ]
    }
   ],
   "source": [
    "files = os.listdir()\n",
    "img_path_list = []\n",
    "\n",
    "for f in files:\n",
    "    if f.endswith(\"di.jpg\") or f.endswith(\"di.jfif\"):\n",
    "        img_path_list.append(f)\n",
    "print(img_path_list)\n",
    "\n",
    "\n",
    "for _,i in zip(img_path_list,range(len(img_path_list))):\n",
    "    image = cv2.imread(_)\n",
    "    \n",
    "    cv2.imshow(f\"{i}.resim\",image)\n",
    "    if cv2.waitKey(0) or 0xFF == ord(\"q\"): continue\n",
    "\n",
    "cv2.destroyAllWindows()\n",
    "    "
   ]
  },
  {
   "cell_type": "code",
   "execution_count": 59,
   "id": "2c7605b2",
   "metadata": {},
   "outputs": [],
   "source": [
    "for _ in img_path_list:\n",
    "    image = cv2.imread(_)\n",
    "    if _ == \"3kedi.jpg\":\n",
    "        image = cv2.resize(image,(700,700))\n",
    "    image_gray = cv2.cvtColor(image,cv2.COLOR_BGR2GRAY)\n",
    "    detector = cv2.CascadeClassifier(\"haarcascade_frontalcatface.xml\")\n",
    "    rects = detector.detectMultiScale(image_gray,scaleFactor = 1.031, minNeighbors = 4)\n",
    "    \n",
    "    for (i,(x,y,w,h)) in enumerate(rects):\n",
    "        cv2.rectangle(image,(x,y),(x+w,y+h),(0,255,255),2)\n",
    "        cv2.putText(image_gray,f\"Kedi {i+1}\",(x,y-10),cv2.FONT_HERSHEY_SIMPLEX,0.55,(0,255,255),2)\n",
    "        \n",
    "    cv2.imshow(_,image)\n",
    "    if cv2.waitKey(0) or 0xFF == ord(\"q\"):\n",
    "        continue\n",
    "        \n",
    "cv2.destroyAllWindows()\n",
    "    \n",
    "    "
   ]
  }
 ],
 "metadata": {
  "kernelspec": {
   "display_name": "Python 3",
   "language": "python",
   "name": "python3"
  },
  "language_info": {
   "codemirror_mode": {
    "name": "ipython",
    "version": 3
   },
   "file_extension": ".py",
   "mimetype": "text/x-python",
   "name": "python",
   "nbconvert_exporter": "python",
   "pygments_lexer": "ipython3",
   "version": "3.8.8"
  }
 },
 "nbformat": 4,
 "nbformat_minor": 5
}
