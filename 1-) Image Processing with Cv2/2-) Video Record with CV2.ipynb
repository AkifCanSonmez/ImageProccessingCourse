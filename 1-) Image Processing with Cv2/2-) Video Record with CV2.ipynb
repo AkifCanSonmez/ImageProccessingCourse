{
 "cells": [
  {
   "cell_type": "code",
   "execution_count": 1,
   "id": "ce7049cc",
   "metadata": {},
   "outputs": [
    {
     "name": "stdout",
     "output_type": "stream",
     "text": [
      "640 480\n"
     ]
    }
   ],
   "source": [
    "import cv2\n",
    "\n",
    "cap = cv2.VideoCapture(0)\n",
    "\n",
    "width = int(cap.get(cv2.CAP_PROP_FRAME_WIDTH))\n",
    "height = int(cap.get(cv2.CAP_PROP_FRAME_HEIGHT))\n",
    "\n",
    "print(width,height)\n",
    "\n",
    "writer = cv2.VideoWriter(\"video_kaydı.mp4\",cv2.VideoWriter_fourcc(*\"DIVX\"),20,(width,height))\n",
    "\n",
    "while True:\n",
    "\n",
    "    red,frame = cap.read()\n",
    "    cv2.imshow(\"Video\",frame)\n",
    "\n",
    "    writer.write(frame)\n",
    "\n",
    "    if cv2.waitKey(1) & 0xFF == ord(\"q\"):\n",
    "        break\n",
    "\n",
    "cap.release()\n",
    "writer.release()\n",
    "cv2.destroyAllWindows()\n"
   ]
  }
 ],
 "metadata": {
  "kernelspec": {
   "display_name": "Python 3",
   "language": "python",
   "name": "python3"
  },
  "language_info": {
   "codemirror_mode": {
    "name": "ipython",
    "version": 3
   },
   "file_extension": ".py",
   "mimetype": "text/x-python",
   "name": "python",
   "nbconvert_exporter": "python",
   "pygments_lexer": "ipython3",
   "version": "3.8.8"
  }
 },
 "nbformat": 4,
 "nbformat_minor": 5
}
