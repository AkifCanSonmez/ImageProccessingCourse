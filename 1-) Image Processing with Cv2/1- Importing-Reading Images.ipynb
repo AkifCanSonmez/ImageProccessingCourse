{
 "cells": [
  {
   "cell_type": "code",
   "execution_count": 1,
   "id": "cb18d6e7",
   "metadata": {},
   "outputs": [
    {
     "name": "stdout",
     "output_type": "stream",
     "text": [
      "[[[  5   5   5]\n",
      "  [  5   5   5]\n",
      "  [  5   5   5]\n",
      "  ...\n",
      "  [  4   4   4]\n",
      "  [  4   4   4]\n",
      "  [  4   4   4]]\n",
      "\n",
      " [[  5   5   5]\n",
      "  [  5   5   5]\n",
      "  [  5   5   5]\n",
      "  ...\n",
      "  [  4   4   4]\n",
      "  [  4   4   4]\n",
      "  [  4   4   4]]\n",
      "\n",
      " [[  5   5   5]\n",
      "  [  5   5   5]\n",
      "  [  5   5   5]\n",
      "  ...\n",
      "  [  4   4   4]\n",
      "  [  4   4   4]\n",
      "  [  4   4   4]]\n",
      "\n",
      " ...\n",
      "\n",
      " [[234 220 198]\n",
      "  [234 220 198]\n",
      "  [234 220 198]\n",
      "  ...\n",
      "  [223 207 184]\n",
      "  [222 206 183]\n",
      "  [221 205 182]]\n",
      "\n",
      " [[234 220 198]\n",
      "  [234 220 198]\n",
      "  [234 220 198]\n",
      "  ...\n",
      "  [223 207 184]\n",
      "  [222 206 183]\n",
      "  [221 205 182]]\n",
      "\n",
      " [[234 220 198]\n",
      "  [234 220 198]\n",
      "  [234 220 198]\n",
      "  ...\n",
      "  [223 207 184]\n",
      "  [222 206 183]\n",
      "  [221 205 182]]]\n",
      "2222160\n",
      "uint8\n",
      "(788, 940, 3)\n"
     ]
    }
   ],
   "source": [
    "import cv2\n",
    "\n",
    "path = r'C:\\Users\\Akif Can Sönmez\\Desktop\\python\\IBM\\ans1.png'\n",
    "resim = cv2.imread(\"dustin.jpg\")\n",
    "#resim = cv2.imread(\"jupyter.png\",0) 2. parametre 0 olduğunda renk kullanılamz\n",
    "\n",
    "cv2.imshow(\"deneme\",resim)\n",
    "cv2.imwrite(\"yeniresim.png\",resim) #resmin kaydedilmesini sağlar\n",
    "\n",
    "cv2.waitKey(0) #herhangi bir tuşa basılmasını bekler pencere açıldığında\n",
    "cv2.destroyAllWindows() #çarpıya basıldığında pencerenin kapılmasını sağlar\n",
    "\n",
    "print(resim)\n",
    "print(resim.size)\n",
    "print(resim.dtype)\n",
    "print(resim.shape) #çıktısı sırasıyla, genişlik,yüksekilk ve kanal sayısı. (RGB 3 kanal kullanılmış)\n"
   ]
  }
 ],
 "metadata": {
  "kernelspec": {
   "display_name": "Python 3",
   "language": "python",
   "name": "python3"
  },
  "language_info": {
   "codemirror_mode": {
    "name": "ipython",
    "version": 3
   },
   "file_extension": ".py",
   "mimetype": "text/x-python",
   "name": "python",
   "nbconvert_exporter": "python",
   "pygments_lexer": "ipython3",
   "version": "3.8.8"
  }
 },
 "nbformat": 4,
 "nbformat_minor": 5
}
