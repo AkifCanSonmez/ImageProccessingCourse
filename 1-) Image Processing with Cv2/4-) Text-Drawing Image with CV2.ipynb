{
 "cells": [
  {
   "cell_type": "code",
   "execution_count": 1,
   "id": "0daf41f2",
   "metadata": {},
   "outputs": [
    {
     "name": "stdout",
     "output_type": "stream",
     "text": [
      "(512, 512, 3)\n"
     ]
    }
   ],
   "source": [
    "import cv2\n",
    "import numpy as np\n",
    "\n",
    "# create image\n",
    "img = np.zeros((512,512,3) , np.uint8) #siyah bir resim\n",
    "print(img.shape)\n",
    "\n",
    "cv2.imshow(\"Siyah\",img)\n",
    "\n",
    "# çizgi\n",
    "# (resim, başlangıç noktası, bitiş noktası, renk, kalınlık)\n",
    "cv2.line(img, (100,100), (100,300), (0,255,0), 3) # BGR = (0,255,0)\n",
    "cv2.imshow(\"Çizgi\",img)\n",
    "\n",
    "# dikdörtgen\n",
    "# (resim, başlangıç, bitiş, renk)\n",
    "cv2.rectangle(img,(0,0), (256,256), (255,0,0), cv2.FILLED)\n",
    "cv2.imshow(\"Dikdörtgen\",img)\n",
    "\n",
    "# çember\n",
    "# (resim, merkez, yarı çap , renk)\n",
    "cv2.circle(img,(300,300),45,(0,0,255),cv2.FILLED)\n",
    "cv2.imshow(\"Cember\", img)\n",
    "\n",
    "# resim, metin, başlangıç noktası, font, kalınlığı, renk\n",
    "cv2.putText(img, \"Resim\", (350,350), cv2.FONT_HERSHEY_COMPLEX, 1, (255,255,255))\n",
    "cv2.imshow(\"Metin\",img)\n",
    "\n",
    "cv2.waitKey(0)\n",
    "cv2.destroyAllWindows()"
   ]
  }
 ],
 "metadata": {
  "kernelspec": {
   "display_name": "Python 3",
   "language": "python",
   "name": "python3"
  },
  "language_info": {
   "codemirror_mode": {
    "name": "ipython",
    "version": 3
   },
   "file_extension": ".py",
   "mimetype": "text/x-python",
   "name": "python",
   "nbconvert_exporter": "python",
   "pygments_lexer": "ipython3",
   "version": "3.8.8"
  }
 },
 "nbformat": 4,
 "nbformat_minor": 5
}
