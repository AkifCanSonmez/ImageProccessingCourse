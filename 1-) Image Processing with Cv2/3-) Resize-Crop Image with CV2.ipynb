{
 "cells": [
  {
   "cell_type": "code",
   "execution_count": 2,
   "id": "8a222053",
   "metadata": {},
   "outputs": [
    {
     "name": "stdout",
     "output_type": "stream",
     "text": [
      "Resim boyutu: (788, 940, 3)\n",
      "Resized Img Shape: (800, 800, 3)\n"
     ]
    }
   ],
   "source": [
    "import cv2\n",
    "\n",
    "img = cv2.imread(\"dustin.jpg\")\n",
    "print(\"Resim boyutu:\",img.shape)\n",
    "cv2.imshow(\"Orijinal\",img)\n",
    "\n",
    "#resized\n",
    "imgResized = cv2.resize(img,(800,800))\n",
    "print(\"Resized Img Shape:\", imgResized.shape)\n",
    "cv2.imshow(\"Img Resized:\",imgResized)\n",
    "\n",
    "#kırp\n",
    "imgCropped = img[:200,:300] # height width -->\n",
    "cv2.imshow(\"Kirpik Resim\",imgCropped)\n",
    "\n",
    "cv2.waitKey(0)\n",
    "cv2.destroyAllWindows()"
   ]
  }
 ],
 "metadata": {
  "kernelspec": {
   "display_name": "Python 3",
   "language": "python",
   "name": "python3"
  },
  "language_info": {
   "codemirror_mode": {
    "name": "ipython",
    "version": 3
   },
   "file_extension": ".py",
   "mimetype": "text/x-python",
   "name": "python",
   "nbconvert_exporter": "python",
   "pygments_lexer": "ipython3",
   "version": "3.8.8"
  }
 },
 "nbformat": 4,
 "nbformat_minor": 5
}
