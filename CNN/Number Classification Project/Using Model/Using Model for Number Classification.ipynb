{
 "cells": [
  {
   "cell_type": "code",
   "execution_count": 1,
   "id": "9ef053eb",
   "metadata": {},
   "outputs": [],
   "source": [
    "import glob\n",
    "import os\n",
    "import numpy as np\n",
    "from keras.models import Sequential\n",
    "from keras.layers import Dense, Dropout, Flatten, Conv2D, MaxPooling2D\n",
    "from PIL import Image\n",
    "from sklearn.preprocessing import LabelEncoder\n",
    "from sklearn.preprocessing import OneHotEncoder\n",
    "from sklearn.model_selection import train_test_split\n",
    "import seaborn as sns\n",
    "import matplotlib.pyplot as plt\n",
    "from tensorflow.keras.utils import to_categorical\n",
    "from keras.preprocessing.image import ImageDataGenerator\n",
    "import pickle\n",
    "import warnings\n",
    "warnings.filterwarnings(\"ignore\")\n",
    "import cv2\n",
    "import keras.models"
   ]
  },
  {
   "cell_type": "code",
   "execution_count": 2,
   "id": "c237d100",
   "metadata": {},
   "outputs": [],
   "source": [
    "def preProcess(img):\n",
    "    img = cv2.cvtColor(img,cv2.COLOR_BGR2GRAY)\n",
    "    img = cv2.equalizeHist(img)\n",
    "    img = img/255.0\n",
    "    \n",
    "    return img"
   ]
  },
  {
   "cell_type": "code",
   "execution_count": 3,
   "id": "2ae271d6",
   "metadata": {},
   "outputs": [],
   "source": [
    "cap = cv2.VideoCapture(0)\n",
    "cap.set(3,480)\n",
    "cap.set(4,480)\n",
    "\n",
    "#pickle_in = open(\"model_trained_new.p\",\"rb\")\n",
    "#model = pickle.load(pickle_in)\n",
    "model = keras.models.load_model(\"Model_Folder1/\")"
   ]
  },
  {
   "cell_type": "markdown",
   "id": "038c733f",
   "metadata": {},
   "source": [
    "#### For below code, you should show a number for camera"
   ]
  },
  {
   "cell_type": "code",
   "execution_count": 4,
   "id": "54b2a441",
   "metadata": {},
   "outputs": [
    {
     "name": "stdout",
     "output_type": "stream",
     "text": [
      "[3] 0.5161327\n",
      "[3] 0.45758706\n",
      "[3] 0.4856541\n",
      "[3] 0.4475087\n",
      "[3] 0.49021626\n",
      "[3] 0.45823687\n",
      "[3] 0.48851094\n",
      "[3] 0.48510852\n",
      "[3] 0.46519032\n",
      "[3] 0.45916507\n",
      "[3] 0.44567096\n",
      "[3] 0.474506\n",
      "[3] 0.47530347\n",
      "[3] 0.45868146\n"
     ]
    }
   ],
   "source": [
    "while True:\n",
    "    success, frame = cap.read()\n",
    "    \n",
    "    img = np.asarray(frame)\n",
    "    img = cv2.resize(img,(32,32))\n",
    "    img = preProcess(img)\n",
    "    \n",
    "    img = img.reshape(1,32,32,1)\n",
    "    \n",
    "    #predict\n",
    "    predict_x = model.predict(img)\n",
    "    classIndex = np.argmax(predict_x,axis=1) \n",
    "    \n",
    "    predictions = model.predict(img)\n",
    "    probVal = np.amax(predictions)\n",
    "    print(classIndex,probVal)\n",
    "\n",
    "    if probVal > 0.7:\n",
    "        cv2.putText(frame, str(classIndex) + \"    \"+ str(probVal),(50,50),cv2.FONT_HERSHEY_DUPLEX,1,(0,255,0),1)\n",
    "\n",
    "    cv2.imshow(\"Rakam Sınıflandırma\",frame)\n",
    "    if cv2.waitKey(1) & 0xFF == ord(\"q\"):\n",
    "        break\n",
    "        \n",
    "cap.release()\n",
    "cv2.destroyAllWindows()"
   ]
  },
  {
   "cell_type": "markdown",
   "id": "a41dd2b1",
   "metadata": {},
   "source": [
    "#### Number detection with an image"
   ]
  },
  {
   "cell_type": "code",
   "execution_count": 10,
   "id": "c54c220c",
   "metadata": {},
   "outputs": [
    {
     "data": {
      "text/plain": [
       "<matplotlib.image.AxesImage at 0x244eabf9b80>"
      ]
     },
     "execution_count": 10,
     "metadata": {},
     "output_type": "execute_result"
    },
    {
     "data": {
      "image/png": "[encoded data removed]",
      "text/plain": [
       "<Figure size 432x288 with 1 Axes>"
      ]
     },
     "metadata": {
      "needs_background": "light"
     },
     "output_type": "display_data"
    }
   ],
   "source": [
    "img = cv2.imread(\"gecici/1.png\",1)\n",
    "plt.figure()\n",
    "plt.imshow(img)"
   ]
  },
  {
   "cell_type": "code",
   "execution_count": 11,
   "id": "d2f5557e",
   "metadata": {},
   "outputs": [
    {
     "name": "stdout",
     "output_type": "stream",
     "text": [
      "[2] 0.9960045\n"
     ]
    }
   ],
   "source": [
    "img = np.asarray(img)\n",
    "img = cv2.resize(img,(32,32))\n",
    "img = preProcess(img)\n",
    "img = img.reshape(1,32,32,1)\n",
    "\n",
    "predict_x = model.predict(img)\n",
    "classIndex = np.argmax(predict_x,axis=1)\n",
    "\n",
    "predictions = model.predict(img)\n",
    "probVal = np.amax(predictions)\n",
    "print(classIndex,probVal)\n",
    "\n",
    "\n",
    "cv2.waitKey(0)\n",
    "cv2.destroyAllWindows()"
   ]
  }
 ],
 "metadata": {
  "kernelspec": {
   "display_name": "Python 3",
   "language": "python",
   "name": "python3"
  },
  "language_info": {
   "codemirror_mode": {
    "name": "ipython",
    "version": 3
   },
   "file_extension": ".py",
   "mimetype": "text/x-python",
   "name": "python",
   "nbconvert_exporter": "python",
   "pygments_lexer": "ipython3",
   "version": "3.8.8"
  }
 },
 "nbformat": 4,
 "nbformat_minor": 5
}
