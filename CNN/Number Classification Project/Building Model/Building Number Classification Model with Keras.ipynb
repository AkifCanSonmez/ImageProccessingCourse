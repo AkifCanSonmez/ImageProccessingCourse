{
 "cells": [
  {
   "cell_type": "code",
   "execution_count": 120,
   "id": "1569ca13",
   "metadata": {},
   "outputs": [],
   "source": [
    "import glob\n",
    "import os\n",
    "import numpy as np\n",
    "from tensorflow.keras.models import Sequential\n",
    "from keras.layers import Dense, Dropout, Flatten, Conv2D, MaxPooling2D\n",
    "from PIL import Image\n",
    "from sklearn.preprocessing import LabelEncoder\n",
    "from sklearn.preprocessing import OneHotEncoder\n",
    "from sklearn.model_selection import train_test_split\n",
    "import seaborn as sns\n",
    "import matplotlib.pyplot as plt\n",
    "from tensorflow.keras.utils import to_categorical\n",
    "from keras.preprocessing.image import ImageDataGenerator\n",
    "import pickle\n",
    "import warnings\n",
    "warnings.filterwarnings(\"ignore\")\n",
    "import cv2"
   ]
  },
  {
   "cell_type": "code",
   "execution_count": 121,
   "id": "a087bbfe",
   "metadata": {},
   "outputs": [
    {
     "name": "stdout",
     "output_type": "stream",
     "text": [
      "Label(sınıf) Sayısı 10\n"
     ]
    }
   ],
   "source": [
    "path = \"myData\"\n",
    "\n",
    "myList = os.listdir(path)\n",
    "noOfClasses = len(myList)\n",
    "\n",
    "print(\"Label(sınıf) Sayısı\", noOfClasses)"
   ]
  },
  {
   "cell_type": "code",
   "execution_count": 122,
   "id": "362fcf21",
   "metadata": {},
   "outputs": [
    {
     "name": "stdout",
     "output_type": "stream",
     "text": [
      "10160\n",
      "10160\n"
     ]
    }
   ],
   "source": [
    "images = []\n",
    "classNo = []\n",
    "\n",
    "for i in range(noOfClasses):\n",
    "    myImageList = os.listdir(path + \"\\\\\"+str(i))\n",
    "    for j in myImageList:\n",
    "        img = cv2.imread(path + \"\\\\\"+str(i)+\"\\\\\"+j)\n",
    "        img = cv2.resize(img,(32,32))\n",
    "        images.append(img)\n",
    "        classNo.append(i)\n",
    "        \n",
    "print(len(images))\n",
    "print(len(classNo))"
   ]
  },
  {
   "cell_type": "code",
   "execution_count": 123,
   "id": "a2995ac2",
   "metadata": {},
   "outputs": [
    {
     "name": "stdout",
     "output_type": "stream",
     "text": [
      "(10160, 32, 32, 3)\n"
     ]
    }
   ],
   "source": [
    "images = np.array(images)\n",
    "classNo = np.array(classNo)\n",
    "\n",
    "print(images.shape)"
   ]
  },
  {
   "cell_type": "code",
   "execution_count": 124,
   "id": "2eefa9bb",
   "metadata": {},
   "outputs": [
    {
     "name": "stdout",
     "output_type": "stream",
     "text": [
      "(10160, 32, 32, 3)\n",
      "(4064, 32, 32, 3)\n",
      "(5080, 32, 32, 3)\n",
      "(1016, 32, 32, 3)\n"
     ]
    }
   ],
   "source": [
    "#Veriyi Ayırma\n",
    "x_train, x_test, y_train, y_test = train_test_split(images,classNo,test_size = 0.5, random_state = 42)\n",
    "x_train, x_validation, y_train, y_validation = train_test_split(x_train,y_train,test_size = 0.2, random_state = 42)\n",
    "\n",
    "print(images.shape)\n",
    "print(x_train.shape)\n",
    "print(x_test.shape)\n",
    "print(x_validation.shape)"
   ]
  },
  {
   "cell_type": "code",
   "execution_count": 125,
   "id": "bd9ef6ad",
   "metadata": {
    "scrolled": true
   },
   "outputs": [
    {
     "data": {
      "text/plain": [
       "Text(0.5, 1.0, 'y_validation')"
      ]
     },
     "execution_count": 125,
     "metadata": {},
     "output_type": "execute_result"
    },
    {
     "data": {
      "image/png": "[encoded data removed]",
      "text/plain": [
       "<Figure size 504x504 with 3 Axes>"
      ]
     },
     "metadata": {
      "needs_background": "light"
     },
     "output_type": "display_data"
    }
   ],
   "source": [
    "fig, axes = plt.subplots(3,1,figsize=(7,7))\n",
    "fig.subplots_adjust(hspace = 0.5)\n",
    "sns.countplot(y_train,ax=axes[0])\n",
    "axes[0].set_title(\"y_train\")\n",
    "\n",
    "sns.countplot(y_train,ax=axes[1])\n",
    "axes[1].set_title(\"y_test\")\n",
    "\n",
    "sns.countplot(y_train,ax=axes[2])\n",
    "axes[2].set_title(\"y_validation\")\n",
    "\n"
   ]
  },
  {
   "cell_type": "code",
   "execution_count": 126,
   "id": "651417f2",
   "metadata": {},
   "outputs": [
    {
     "name": "stdout",
     "output_type": "stream",
     "text": [
      "(4064, 32, 32, 1)\n"
     ]
    }
   ],
   "source": [
    "# Preprocess\n",
    "\n",
    "def preProcess(img):\n",
    "    img = cv2.cvtColor(img,cv2.COLOR_BGR2GRAY)\n",
    "    img = cv2.equalizeHist(img)\n",
    "    img = img / 255\n",
    "    \n",
    "    return img\n",
    "\n",
    "x_train = np.array(list(map(preProcess, x_train)))\n",
    "x_test = np.array(list(map(preProcess,x_test)))\n",
    "x_validation = np.array(list(map(preProcess,x_validation)))\n",
    "x_train = x_train.reshape(-1,32,32,1)\n",
    "print(x_train.shape)\n",
    "x_test = x_test.reshape(-1,32,32,1)\n",
    "x_validation = x_validation.reshape(-1,32,32,1)"
   ]
  },
  {
   "cell_type": "code",
   "execution_count": 127,
   "id": "55f6cbf4",
   "metadata": {
    "scrolled": false
   },
   "outputs": [
    {
     "name": "stdout",
     "output_type": "stream",
     "text": [
      "Epoch 1/15\n",
      "16/16 [==============================] - 3s 120ms/step - loss: 2.2426 - accuracy: 0.1762 - val_loss: 1.9895 - val_accuracy: 0.5965\n",
      "Epoch 2/15\n",
      "16/16 [==============================] - 2s 100ms/step - loss: 1.8351 - accuracy: 0.4675 - val_loss: 1.0676 - val_accuracy: 0.8494\n",
      "Epoch 3/15\n",
      "16/16 [==============================] - 2s 102ms/step - loss: 1.2501 - accuracy: 0.6017 - val_loss: 0.5511 - val_accuracy: 0.8386\n",
      "Epoch 4/15\n",
      "16/16 [==============================] - 2s 135ms/step - loss: 0.9131 - accuracy: 0.7079 - val_loss: 0.3133 - val_accuracy: 0.9232\n",
      "Epoch 5/15\n",
      "16/16 [==============================] - 2s 108ms/step - loss: 0.7066 - accuracy: 0.7779 - val_loss: 0.2684 - val_accuracy: 0.9252\n",
      "Epoch 6/15\n",
      "16/16 [==============================] - 2s 105ms/step - loss: 0.6369 - accuracy: 0.7965 - val_loss: 0.2148 - val_accuracy: 0.9419\n",
      "Epoch 7/15\n",
      "16/16 [==============================] - 2s 110ms/step - loss: 0.5260 - accuracy: 0.8401 - val_loss: 0.1963 - val_accuracy: 0.9409\n",
      "Epoch 8/15\n",
      "16/16 [==============================] - 2s 104ms/step - loss: 0.4885 - accuracy: 0.8453 - val_loss: 0.1669 - val_accuracy: 0.9429\n",
      "Epoch 9/15\n",
      "16/16 [==============================] - 2s 106ms/step - loss: 0.4476 - accuracy: 0.8663 - val_loss: 0.1503 - val_accuracy: 0.9508\n",
      "Epoch 10/15\n",
      "16/16 [==============================] - 2s 106ms/step - loss: 0.3893 - accuracy: 0.8762 - val_loss: 0.1430 - val_accuracy: 0.9528\n",
      "Epoch 11/15\n",
      "16/16 [==============================] - 2s 101ms/step - loss: 0.3609 - accuracy: 0.8849 - val_loss: 0.1366 - val_accuracy: 0.9547\n",
      "Epoch 12/15\n",
      "16/16 [==============================] - 2s 113ms/step - loss: 0.3355 - accuracy: 0.8996 - val_loss: 0.1133 - val_accuracy: 0.9656\n",
      "Epoch 13/15\n",
      "16/16 [==============================] - 2s 110ms/step - loss: 0.3301 - accuracy: 0.9009 - val_loss: 0.1069 - val_accuracy: 0.9656\n",
      "Epoch 14/15\n",
      "16/16 [==============================] - 2s 103ms/step - loss: 0.2951 - accuracy: 0.9046 - val_loss: 0.1091 - val_accuracy: 0.9616\n",
      "Epoch 15/15\n",
      "16/16 [==============================] - 2s 98ms/step - loss: 0.2879 - accuracy: 0.9101 - val_loss: 0.1060 - val_accuracy: 0.9656\n"
     ]
    }
   ],
   "source": [
    "#data generate\n",
    "dataGen = ImageDataGenerator(width_shift_range=0.1,\n",
    "                            height_shift_range=0.1,\n",
    "                            zoom_range= 0.1,\n",
    "                            rotation_range= 10)\n",
    "\n",
    "dataGen.fit(x_train)\n",
    "\n",
    "y_train = to_categorical(y_train,noOfClasses)\n",
    "y_test = to_categorical(y_test,noOfClasses)\n",
    "y_validation = to_categorical(y_validation,noOfClasses)\n",
    "\n",
    "model = Sequential()\n",
    "model.add(Conv2D(input_shape = (32,32,1), filters = 8, kernel_size = (5,5),activation = \"relu\", padding = \"same\" ))\n",
    "model.add(MaxPooling2D(pool_size = (2,2)))\n",
    "\n",
    "model.add(Conv2D(filters = 8, kernel_size = (3,3),activation = \"relu\", padding = \"same\" ))\n",
    "model.add(MaxPooling2D(pool_size = (2,2)))\n",
    "\n",
    "model.add(Dropout(0.2))\n",
    "model.add(Flatten())\n",
    "model.add(Dense(units = 256, activation = \"relu\"))\n",
    "model.add(Dropout(0.2))\n",
    "model.add(Dense(units = noOfClasses, activation = \"softmax\"))\n",
    "\n",
    "model.compile(loss = \"categorical_crossentropy\", optimizer=(\"Adam\"), metrics = [\"accuracy\"])\n",
    "\n",
    "batch_size = 250\n",
    "\n",
    "hist = model.fit_generator(dataGen.flow(x_train, y_train, batch_size = batch_size),\n",
    "                                      validation_data = (x_validation, y_validation),\n",
    "                                      epochs = 15, steps_per_epoch = x_train.shape[0]//batch_size, shuffle = 1)\n",
    "\n",
    "\n"
   ]
  },
  {
   "cell_type": "code",
   "execution_count": 128,
   "id": "2f7c2ee9",
   "metadata": {
    "scrolled": true
   },
   "outputs": [
    {
     "name": "stdout",
     "output_type": "stream",
     "text": [
      "INFO:tensorflow:Assets written to: Model_Folder1/assets\n"
     ]
    }
   ],
   "source": [
    "model.save(\"Model_Folder1/\")\n",
    "model.save_weights(\"Model_Folder1/\")\n"
   ]
  }
 ],
 "metadata": {
  "kernelspec": {
   "display_name": "Python 3",
   "language": "python",
   "name": "python3"
  },
  "language_info": {
   "codemirror_mode": {
    "name": "ipython",
    "version": 3
   },
   "file_extension": ".py",
   "mimetype": "text/x-python",
   "name": "python",
   "nbconvert_exporter": "python",
   "pygments_lexer": "ipython3",
   "version": "3.8.8"
  }
 },
 "nbformat": 4,
 "nbformat_minor": 5
}
