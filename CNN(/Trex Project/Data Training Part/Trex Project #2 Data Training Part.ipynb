{
 "cells": [
  {
   "cell_type": "code",
   "execution_count": 30,
   "id": "08b43351",
   "metadata": {},
   "outputs": [],
   "source": [
    "import glob\n",
    "import os\n",
    "import numpy as np\n",
    "from keras.models import Sequential\n",
    "from keras.layers import Dense, Dropout, Flatten, Conv2D, MaxPooling2D\n",
    "from PIL import Image\n",
    "from sklearn.preprocessing import LabelEncoder\n",
    "from sklearn.preprocessing import OneHotEncoder\n",
    "from sklearn.model_selection import train_test_split\n",
    "import seaborn as sns\n",
    "import warnings\n",
    "warnings.filterwarnings(\"ignore\")"
   ]
  },
  {
   "cell_type": "code",
   "execution_count": 31,
   "id": "a7cfee07",
   "metadata": {},
   "outputs": [],
   "source": [
    "imgs = glob.glob(\"trackresimleri/*.png\")"
   ]
  },
  {
   "cell_type": "code",
   "execution_count": 32,
   "id": "22c2eaa8",
   "metadata": {},
   "outputs": [],
   "source": [
    "width = 125\n",
    "height = 50\n",
    "\n",
    "X = []\n",
    "Y = []\n",
    "\n",
    "for img in imgs:\n",
    "    \n",
    "    filename = os.path.basename(img)\n",
    "    label = filename.split(\"_\")[0]\n",
    "    im = np.array(Image.open(img).convert(\"L\").resize((width,height)))\n",
    "    im = im/255\n",
    "    X.append(im)\n",
    "    Y.append(label)\n",
    "    \n",
    "X = np.array(X)\n",
    "X = X.reshape(X.shape[0],width,height,1)"
   ]
  },
  {
   "cell_type": "code",
   "execution_count": 21,
   "id": "d2ca1dbc",
   "metadata": {
    "scrolled": true
   },
   "outputs": [
    {
     "data": {
      "text/plain": [
       "<AxesSubplot:ylabel='count'>"
      ]
     },
     "execution_count": 21,
     "metadata": {},
     "output_type": "execute_result"
    },
    {
     "data": {
      "image/png": "[encoded data removed]",
      "text/plain": [
       "<Figure size 432x288 with 1 Axes>"
      ]
     },
     "metadata": {
      "needs_background": "light"
     },
     "output_type": "display_data"
    }
   ],
   "source": [
    "sns.countplot(Y)"
   ]
  },
  {
   "cell_type": "code",
   "execution_count": 33,
   "id": "f53169db",
   "metadata": {},
   "outputs": [],
   "source": [
    "def onehot_labels(values):\n",
    "    label_encoder = LabelEncoder()\n",
    "    integer_encoded = label_encoder.fit_transform(values)\n",
    "    onehot_encoder = OneHotEncoder(sparse = False)\n",
    "    integer_encoded = integer_encoded.reshape(len(integer_encoded),1)\n",
    "    onehot_encoded = onehot_encoder.fit_transform(integer_encoded)\n",
    "    return onehot_encoded\n",
    "\n",
    "Y = onehot_labels(Y)\n",
    "train_X, test_X, train_y, test_y =  train_test_split(X, Y, test_size=0.25, random_state = 2)"
   ]
  },
  {
   "cell_type": "markdown",
   "id": "dbd3477b",
   "metadata": {},
   "source": [
    "## CNN Model\n"
   ]
  },
  {
   "cell_type": "code",
   "execution_count": 34,
   "id": "84d4091a",
   "metadata": {
    "scrolled": false
   },
   "outputs": [
    {
     "name": "stdout",
     "output_type": "stream",
     "text": [
      "Epoch 1/35\n",
      "3/3 [==============================] - 3s 648ms/step - loss: 4.7337 - accuracy: 0.4526\n",
      "Epoch 2/35\n",
      "3/3 [==============================] - 2s 633ms/step - loss: 1.9565 - accuracy: 0.4474\n",
      "Epoch 3/35\n",
      "3/3 [==============================] - 2s 632ms/step - loss: 1.1593 - accuracy: 0.4105\n",
      "Epoch 4/35\n",
      "3/3 [==============================] - 2s 657ms/step - loss: 0.9518 - accuracy: 0.5211\n",
      "Epoch 5/35\n",
      "3/3 [==============================] - 2s 623ms/step - loss: 0.9431 - accuracy: 0.5158\n",
      "Epoch 6/35\n",
      "3/3 [==============================] - 2s 636ms/step - loss: 0.8665 - accuracy: 0.5421\n",
      "Epoch 7/35\n",
      "3/3 [==============================] - 2s 623ms/step - loss: 0.8802 - accuracy: 0.5053\n",
      "Epoch 8/35\n",
      "3/3 [==============================] - 2s 661ms/step - loss: 0.8286 - accuracy: 0.5947\n",
      "Epoch 9/35\n",
      "3/3 [==============================] - 2s 670ms/step - loss: 0.7828 - accuracy: 0.6316\n",
      "Epoch 10/35\n",
      "3/3 [==============================] - 2s 638ms/step - loss: 0.7765 - accuracy: 0.6211\n",
      "Epoch 11/35\n",
      "3/3 [==============================] - 2s 618ms/step - loss: 0.7564 - accuracy: 0.6158\n",
      "Epoch 12/35\n",
      "3/3 [==============================] - 2s 627ms/step - loss: 0.7256 - accuracy: 0.6474\n",
      "Epoch 13/35\n",
      "3/3 [==============================] - 2s 630ms/step - loss: 0.7064 - accuracy: 0.6579\n",
      "Epoch 14/35\n",
      "3/3 [==============================] - 2s 613ms/step - loss: 0.6603 - accuracy: 0.7053\n",
      "Epoch 15/35\n",
      "3/3 [==============================] - 2s 615ms/step - loss: 0.6956 - accuracy: 0.6474\n",
      "Epoch 16/35\n",
      "3/3 [==============================] - 2s 608ms/step - loss: 0.6511 - accuracy: 0.7158\n",
      "Epoch 17/35\n",
      "3/3 [==============================] - 2s 629ms/step - loss: 0.6512 - accuracy: 0.6947\n",
      "Epoch 18/35\n",
      "3/3 [==============================] - 2s 627ms/step - loss: 0.6403 - accuracy: 0.6895\n",
      "Epoch 19/35\n",
      "3/3 [==============================] - 2s 613ms/step - loss: 0.6212 - accuracy: 0.6684\n",
      "Epoch 20/35\n",
      "3/3 [==============================] - 2s 648ms/step - loss: 0.5915 - accuracy: 0.7421\n",
      "Epoch 21/35\n",
      "3/3 [==============================] - 2s 616ms/step - loss: 0.6075 - accuracy: 0.6947\n",
      "Epoch 22/35\n",
      "3/3 [==============================] - 2s 624ms/step - loss: 0.6179 - accuracy: 0.6947\n",
      "Epoch 23/35\n",
      "3/3 [==============================] - 2s 623ms/step - loss: 0.5894 - accuracy: 0.7211\n",
      "Epoch 24/35\n",
      "3/3 [==============================] - 2s 635ms/step - loss: 0.5938 - accuracy: 0.7000\n",
      "Epoch 25/35\n",
      "3/3 [==============================] - 2s 653ms/step - loss: 0.6200 - accuracy: 0.7053\n",
      "Epoch 26/35\n",
      "3/3 [==============================] - 2s 621ms/step - loss: 0.5780 - accuracy: 0.7053\n",
      "Epoch 27/35\n",
      "3/3 [==============================] - 2s 614ms/step - loss: 0.5840 - accuracy: 0.7000\n",
      "Epoch 28/35\n",
      "3/3 [==============================] - 2s 608ms/step - loss: 0.5797 - accuracy: 0.7000\n",
      "Epoch 29/35\n",
      "3/3 [==============================] - 2s 620ms/step - loss: 0.5877 - accuracy: 0.7263\n",
      "Epoch 30/35\n",
      "3/3 [==============================] - 2s 618ms/step - loss: 0.6375 - accuracy: 0.6632\n",
      "Epoch 31/35\n",
      "3/3 [==============================] - 2s 612ms/step - loss: 0.5768 - accuracy: 0.6947\n",
      "Epoch 32/35\n",
      "3/3 [==============================] - 2s 620ms/step - loss: 0.5928 - accuracy: 0.7105\n",
      "Epoch 33/35\n",
      "3/3 [==============================] - 2s 623ms/step - loss: 0.5799 - accuracy: 0.6895\n",
      "Epoch 34/35\n",
      "3/3 [==============================] - 2s 600ms/step - loss: 0.5482 - accuracy: 0.7158\n",
      "Epoch 35/35\n",
      "3/3 [==============================] - 2s 607ms/step - loss: 0.5974 - accuracy: 0.7000\n",
      "6/6 [==============================] - 1s 75ms/step - loss: 0.5395 - accuracy: 0.8211\n",
      "Eğitim Doğrulu : % 82.1052610874176\n",
      "2/2 [==============================] - 0s 76ms/step - loss: 1.2061 - accuracy: 0.5312\n",
      "Test doğruluğu: % 53.125\n"
     ]
    }
   ],
   "source": [
    "model = Sequential()\n",
    "model.add(Conv2D(32, kernel_size = (3,3), activation = \"relu\", input_shape = (width,height,1)))\n",
    "model.add(Conv2D(64, kernel_size = (3,3), activation = \"relu\"))\n",
    "model.add(MaxPooling2D(pool_size = (2,2)))\n",
    "model.add(Dropout(0.25))\n",
    "model.add(Flatten())\n",
    "model.add(Dense(128,activation=\"relu\"))\n",
    "model.add(Dropout(0.4))\n",
    "model.add(Dense(3,activation=\"softmax\"))\n",
    "\n",
    "\n",
    "\n",
    "\n",
    "model.compile(loss = \"categorical_crossentropy\", optimizer = \"Adam\", metrics = [\"accuracy\"])\n",
    "\n",
    "model.fit(train_X, train_y, epochs= 35, batch_size = 64)\n",
    "\n",
    "score_train = model.evaluate(train_X, train_y)\n",
    "print(\"Eğitim Doğrulu : %\",score_train[1]*100)\n",
    "\n",
    "score_test = model.evaluate(test_X, test_y)\n",
    "print(\"Test doğruluğu: %\", score_test[1]*100)\n",
    "open(\"model_json\",\"w\").write(model.to_json())\n",
    "model.save_weights(\"trex_weight.h5\")\n",
    "\n"
   ]
  }
 ],
 "metadata": {
  "kernelspec": {
   "display_name": "Python 3",
   "language": "python",
   "name": "python3"
  },
  "language_info": {
   "codemirror_mode": {
    "name": "ipython",
    "version": 3
   },
   "file_extension": ".py",
   "mimetype": "text/x-python",
   "name": "python",
   "nbconvert_exporter": "python",
   "pygments_lexer": "ipython3",
   "version": "3.8.8"
  }
 },
 "nbformat": 4,
 "nbformat_minor": 5
}
